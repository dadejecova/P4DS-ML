{
 "cells": [
  {
   "cell_type": "markdown",
   "metadata": {},
   "source": [
    "How They think?"
   ]
  },
  {
   "cell_type": "markdown",
   "metadata": {},
   "source": [
    "Well,  we can say that a computer \"thinks\" by following a set or precise instructions (code), that are written in a lenguage that a computer can understand."
   ]
  },
  {
   "cell_type": "markdown",
   "metadata": {},
   "source": [
    "Key-poins in programming:"
   ]
  },
  {
   "cell_type": "markdown",
   "metadata": {},
   "source": [
    "- Binary System: Using a system of 0's and 1's, that are the fundamental building blocks of all calculations.\n",
    "\n",
    "- Algorithms: SBS (step-by-step) instructions that define how the computer should solve a problem.\n",
    "\n",
    "- Logic and rules: Rules and conditions, dictacting how to respond differents inputs.\n",
    "\n",
    "- No independent Thought: It only exceute code provided by a programmer."
   ]
  },
  {
   "cell_type": "markdown",
   "metadata": {},
   "source": [
    "If we creae a simple program:"
   ]
  },
  {
   "cell_type": "markdown",
   "metadata": {},
   "source": [
    "A = 5, b = 10 and C = A + B."
   ]
  },
  {
   "cell_type": "markdown",
   "metadata": {},
   "source": [
    "The computer is going to read the first line, refering that the variable A points to the value 5, then it points to the data 10 sotered in the variable B."
   ]
  },
  {
   "cell_type": "markdown",
   "metadata": {},
   "source": [
    "To do the Sum() in order it looks at the variable A (sees its memory location), fetches it value 5 then it goes to the location to get the value 10 (variable B); adds those two together and stores into a third variable \"c\""
   ]
  },
  {
   "cell_type": "markdown",
   "metadata": {},
   "source": []
  }
 ],
 "metadata": {
  "language_info": {
   "name": "python"
  }
 },
 "nbformat": 4,
 "nbformat_minor": 2
}

{
  "cells": [
    {
      "cell_type": "code",
      "execution_count": 2,
      "metadata": {
        "colab": {
          "base_uri": "https://localhost:8080/"
        },
        "id": "sTGPvPCw9KcL",
        "outputId": "f45fa8d7-85f8-4b7b-8a98-cafa6a3f0e5d"
      },
      "outputs": [
        {
          "name": "stdout",
          "output_type": "stream",
          "text": [
            "It's False\n",
            "Always cuz it's oustide\n"
          ]
        }
      ],
      "source": [
        "# Control Flow\n",
        "\n",
        "# If / Else Statements\n",
        "\n",
        "a = False\n",
        "if a:\n",
        "  print(\"It's True\")\n",
        "else:\n",
        "  print(\"It's False\")\n",
        "\n",
        "print(\"Always cuz it's oustide\")"
      ]
    },
    {
      "cell_type": "code",
      "execution_count": 3,
      "metadata": {
        "colab": {
          "base_uri": "https://localhost:8080/"
        },
        "id": "entjLkOM9S9G",
        "outputId": "e48fbf41-c8a7-43c5-d28f-5850c4c604be"
      },
      "outputs": [
        {
          "name": "stdout",
          "output_type": "stream",
          "text": [
            "It's True\n"
          ]
        }
      ],
      "source": [
        "a = True\n",
        "b = True\n",
        "c = True\n",
        "\n",
        "if a:\n",
        "  print(\"It's True\")\n",
        "elif b:\n",
        "  print(\"It's True\")\n",
        "elif c:\n",
        "  print(\"It's True\")\n",
        "else:\n",
        "  print(\"It's False\")"
      ]
    },
    {
      "cell_type": "code",
      "execution_count": 4,
      "metadata": {
        "colab": {
          "base_uri": "https://localhost:8080/"
        },
        "id": "s0SFxhTU9nLT",
        "outputId": "121f344b-a95e-4f3d-adae-a49fcfb9cff1"
      },
      "outputs": [
        {
          "name": "stdout",
          "output_type": "stream",
          "text": [
            "1\n",
            "2\n",
            "3\n",
            "4\n",
            "5\n"
          ]
        }
      ],
      "source": [
        "# For loops\n",
        "\n",
        "a = [1, 2, 3, 4, 5]\n",
        "for i in a:\n",
        "  print(i)"
      ]
    },
    {
      "cell_type": "code",
      "execution_count": 6,
      "metadata": {
        "id": "3k3HxB5k9sGl"
      },
      "outputs": [
        {
          "data": {
            "text/plain": [
              "True"
            ]
          },
          "execution_count": 6,
          "metadata": {},
          "output_type": "execute_result"
        }
      ],
      "source": [
        "4 in a"
      ]
    },
    {
      "cell_type": "code",
      "execution_count": 8,
      "metadata": {},
      "outputs": [
        {
          "name": "stdout",
          "output_type": "stream",
          "text": [
            "0\n",
            "1\n",
            "2\n",
            "3\n",
            "4\n",
            "5\n",
            "6\n",
            "7\n",
            "8\n",
            "9\n"
          ]
        }
      ],
      "source": [
        "# While Loop\n",
        "\n",
        "a = 0\n",
        "while a < 10:\n",
        "  print(a)\n",
        "  a += 1 # a = a + 1"
      ]
    },
    {
      "cell_type": "code",
      "execution_count": 2,
      "metadata": {},
      "outputs": [
        {
          "data": {
            "text/plain": [
              "9"
            ]
          },
          "execution_count": 2,
          "metadata": {},
          "output_type": "execute_result"
        }
      ],
      "source": [
        "# Functions \n",
        "# def function_name(parameters):\n",
        "#  \n",
        "#  return value\n",
        "\n",
        "def multiplyby3(a):\n",
        "  return 3 * a\n",
        "\n",
        "multiplyby3(3)"
      ]
    },
    {
      "cell_type": "code",
      "execution_count": 3,
      "metadata": {},
      "outputs": [
        {
          "data": {
            "text/plain": [
              "12"
            ]
          },
          "execution_count": 3,
          "metadata": {},
          "output_type": "execute_result"
        }
      ],
      "source": [
        "def multiply(a,b):\n",
        "  return a * b\n",
        "\n",
        "multiply(3,4)"
      ]
    },
    {
      "cell_type": "code",
      "execution_count": 5,
      "metadata": {},
      "outputs": [
        {
          "data": {
            "text/plain": [
              "[1, 2, 3, 4, 5, 6]"
            ]
          },
          "execution_count": 5,
          "metadata": {},
          "output_type": "execute_result"
        }
      ],
      "source": [
        "a = [1, 2, 3, 4, 5]\n",
        "\n",
        "def append6(a):\n",
        "  a.append(6)\n",
        "  return a\n",
        "\n",
        "append6(a)"
      ]
    },
    {
      "cell_type": "code",
      "execution_count": 17,
      "metadata": {},
      "outputs": [],
      "source": [
        "# Classes  and Objects\n",
        "\n",
        "class Dog:  # Class name should be capitalized\n",
        "  def __init__(self, name, age): # Constructor\n",
        "    self.name = name # Instance variables\n",
        "    self.age = age # Instance variables\n",
        "\n",
        "  def bark(self): # Method\n",
        "    print(self.name + \": Woof\") # Method\n",
        "\n"
      ]
    },
    {
      "cell_type": "code",
      "execution_count": 18,
      "metadata": {},
      "outputs": [],
      "source": [
        "dog1 = Dog('Cooper', 7)\n",
        "\n",
        "dog2 = Dog('Chica', 11)"
      ]
    },
    {
      "cell_type": "code",
      "execution_count": 19,
      "metadata": {},
      "outputs": [
        {
          "name": "stdout",
          "output_type": "stream",
          "text": [
            "Cooper: Woof\n"
          ]
        }
      ],
      "source": [
        "dog1.bark()"
      ]
    },
    {
      "cell_type": "code",
      "execution_count": 20,
      "metadata": {},
      "outputs": [
        {
          "name": "stdout",
          "output_type": "stream",
          "text": [
            "Chica: Woof\n"
          ]
        }
      ],
      "source": [
        "dog2.bark()"
      ]
    },
    {
      "cell_type": "code",
      "execution_count": 23,
      "metadata": {},
      "outputs": [
        {
          "data": {
            "text/plain": [
              "120"
            ]
          },
          "execution_count": 23,
          "metadata": {},
          "output_type": "execute_result"
        }
      ],
      "source": [
        "# Exercise to get the factorial \n",
        "def factorial(num):                 # Recursive function\n",
        "  if num == 0:                      # Base case\n",
        "    return 1                        # Base case\n",
        "  else:                             # Recursive case\n",
        "    return num * factorial(num - 1) # Recursive case\n",
        "  \n",
        "factorial(5)                        # 5 * 4 * 3 * 2 * 1 = 120"
      ]
    },
    {
      "cell_type": "code",
      "execution_count": null,
      "metadata": {},
      "outputs": [],
      "source": [
        "# Another solution this one do not give the error when the input is not an integer or negative\n",
        "\n",
        "def factorial(num):\n",
        "    if type(num) != int:\n",
        "        return None\n",
        "    if num < 0:\n",
        "        return None\n",
        "    \n",
        "    fact = 1\n",
        "    counter = 1\n",
        "    while counter <= num:\n",
        "        fact *= counter\n",
        "        counter += 1\n",
        "    return fact\n",
        "\n",
        "factorial(-2)"
      ]
    },
    {
      "cell_type": "code",
      "execution_count": null,
      "metadata": {},
      "outputs": [],
      "source": []
    }
  ],
  "metadata": {
    "colab": {
      "authorship_tag": "ABX9TyOG126Jyc7kMnflgxChgthu",
      "provenance": []
    },
    "kernelspec": {
      "display_name": "Python 3",
      "name": "python3"
    },
    "language_info": {
      "codemirror_mode": {
        "name": "ipython",
        "version": 3
      },
      "file_extension": ".py",
      "mimetype": "text/x-python",
      "name": "python",
      "nbconvert_exporter": "python",
      "pygments_lexer": "ipython3",
      "version": "3.13.1"
    }
  },
  "nbformat": 4,
  "nbformat_minor": 0
}

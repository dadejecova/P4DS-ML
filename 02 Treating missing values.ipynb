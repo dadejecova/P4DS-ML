{
  "nbformat": 4,
  "nbformat_minor": 0,
  "metadata": {
    "colab": {
      "provenance": [],
      "authorship_tag": "ABX9TyMFzc+/9jVRXfWwGP8aQpDO"
    },
    "kernelspec": {
      "name": "python3",
      "display_name": "Python 3"
    },
    "language_info": {
      "name": "python"
    }
  },
  "cells": [
    {
      "cell_type": "code",
      "execution_count": 1,
      "metadata": {
        "id": "PH6c6BX013k8"
      },
      "outputs": [],
      "source": [
        "# Treating missing values - working with misssing data in pandas"
      ]
    },
    {
      "cell_type": "code",
      "source": [
        "import numpy as np\n",
        "import pandas as pd\n",
        "\n",
        "from pandas import DataFrame"
      ],
      "metadata": {
        "id": "7qjcCftM2eqC"
      },
      "execution_count": 2,
      "outputs": []
    },
    {
      "cell_type": "code",
      "source": [
        "#Filling missing values using fillna(), replace() and interpolate()"
      ],
      "metadata": {
        "id": "FfyemXpo2npR"
      },
      "execution_count": 3,
      "outputs": []
    },
    {
      "cell_type": "code",
      "source": [
        "data = {'names':['steve', 'john', 'richard','sarah','randy','micheal','julie'],\n",
        "        'age': []}"
      ],
      "metadata": {
        "id": "ykODmWSx2sKl"
      },
      "execution_count": null,
      "outputs": []
    }
  ]
}
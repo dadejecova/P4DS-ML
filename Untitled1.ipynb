{
  "nbformat": 4,
  "nbformat_minor": 0,
  "metadata": {
    "colab": {
      "provenance": [],
      "authorship_tag": "ABX9TyOG126Jyc7kMnflgxChgthu"
    },
    "kernelspec": {
      "name": "python3",
      "display_name": "Python 3"
    },
    "language_info": {
      "name": "python"
    }
  },
  "cells": [
    {
      "cell_type": "code",
      "execution_count": 4,
      "metadata": {
        "colab": {
          "base_uri": "https://localhost:8080/"
        },
        "id": "sTGPvPCw9KcL",
        "outputId": "f45fa8d7-85f8-4b7b-8a98-cafa6a3f0e5d"
      },
      "outputs": [
        {
          "output_type": "stream",
          "name": "stdout",
          "text": [
            "It's False\n",
            "Always cuz it's oustide\n"
          ]
        }
      ],
      "source": [
        "# Control Flow\n",
        "\n",
        "# If / Else Statements\n",
        "\n",
        "a = False\n",
        "if a:\n",
        "  print(\"It's True\")\n",
        "else:\n",
        "  print(\"It's False\")\n",
        "\n",
        "print(\"Always cuz it's oustide\")"
      ]
    },
    {
      "cell_type": "code",
      "source": [
        "a = True\n",
        "b = True\n",
        "c = True\n",
        "\n",
        "if a:\n",
        "  print(\"It's True\")\n",
        "elif b:\n",
        "  print(\"It's True\")\n",
        "elif c:\n",
        "  print(\"It's True\")\n",
        "else:\n",
        "  print(\"It's False\")"
      ],
      "metadata": {
        "colab": {
          "base_uri": "https://localhost:8080/"
        },
        "id": "entjLkOM9S9G",
        "outputId": "e48fbf41-c8a7-43c5-d28f-5850c4c604be"
      },
      "execution_count": 5,
      "outputs": [
        {
          "output_type": "stream",
          "name": "stdout",
          "text": [
            "It's True\n"
          ]
        }
      ]
    },
    {
      "cell_type": "code",
      "source": [
        "# For loops\n",
        "\n",
        "a = [1, 2, 3, 4, 5]\n",
        "for i in a:\n",
        "  print(i)"
      ],
      "metadata": {
        "colab": {
          "base_uri": "https://localhost:8080/"
        },
        "id": "s0SFxhTU9nLT",
        "outputId": "121f344b-a95e-4f3d-adae-a49fcfb9cff1"
      },
      "execution_count": 6,
      "outputs": [
        {
          "output_type": "stream",
          "name": "stdout",
          "text": [
            "1\n",
            "2\n",
            "3\n",
            "4\n",
            "5\n"
          ]
        }
      ]
    },
    {
      "cell_type": "code",
      "source": [],
      "metadata": {
        "id": "3k3HxB5k9sGl"
      },
      "execution_count": null,
      "outputs": []
    }
  ]
}